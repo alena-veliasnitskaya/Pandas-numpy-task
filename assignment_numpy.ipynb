{
 "cells": [
  {
   "cell_type": "markdown",
   "id": "d3df79dd",
   "metadata": {},
   "source": [
    "## Упражнения по библиотеке Numpy"
   ]
  },
  {
   "cell_type": "code",
   "execution_count": 1,
   "id": "76b9c43b",
   "metadata": {},
   "outputs": [],
   "source": [
    "import numpy as np\n",
    "import random"
   ]
  },
  {
   "cell_type": "markdown",
   "id": "03727b7c",
   "metadata": {},
   "source": [
    "**1.** Дан случайный массив, поменять знак у элементов, значения которых между 3 и 8"
   ]
  },
  {
   "cell_type": "code",
   "execution_count": 2,
   "id": "b89a7523",
   "metadata": {},
   "outputs": [],
   "source": [
    "random_array = np.random.randint(-1, 15, 10)\n",
    "random_array[(3 < random_array) & (random_array < 8)] *= -1"
   ]
  },
  {
   "cell_type": "markdown",
   "id": "5fa4abda",
   "metadata": {},
   "source": [
    "**2.** Заменить максимальный элемент случайного массива на 0"
   ]
  },
  {
   "cell_type": "code",
   "execution_count": 3,
   "id": "f2788a6e",
   "metadata": {},
   "outputs": [
    {
     "data": {
      "text/plain": [
       "array([ 0, 12,  6,  6, 10,  3,  5, 10,  9,  6])"
      ]
     },
     "execution_count": 3,
     "metadata": {},
     "output_type": "execute_result"
    }
   ],
   "source": [
    "random_array = np.random.randint(-1, 15, 10)\n",
    "random_array[random_array.argmax()] = 0\n",
    "random_array"
   ]
  },
  {
   "cell_type": "markdown",
   "id": "3cac656b",
   "metadata": {},
   "source": [
    "**3.** Построить прямое произведение массивов (все комбинации с каждым элементом). На вход подается двумерный массив"
   ]
  },
  {
   "cell_type": "code",
   "execution_count": 4,
   "id": "3396b764",
   "metadata": {},
   "outputs": [
    {
     "name": "stdout",
     "output_type": "stream",
     "text": [
      "1 8\n",
      "3 5\n",
      "3 8\n",
      "1 6\n"
     ]
    }
   ],
   "source": [
    "array_1 = np.random.randint(1, 5, size=(2, 2))\n",
    "array_2 = np.random.randint(1, 10, size=(2, 2))\n",
    "for i in range(len(array_1)):\n",
    "    for j in range(len(array_2[0])):\n",
    "        print(array_1[i][j], array_2[i][j])"
   ]
  },
  {
   "cell_type": "markdown",
   "id": "674c9354",
   "metadata": {},
   "source": [
    "**4.** Даны 2 массива A (8x3) и B (2x2). Найти строки в A, которые содержат элементы из каждой строки в B, независимо от порядка элементов в B"
   ]
  },
  {
   "cell_type": "code",
   "execution_count": 5,
   "id": "cb664782",
   "metadata": {},
   "outputs": [
    {
     "name": "stdout",
     "output_type": "stream",
     "text": [
      "[1 4 4]\n",
      "[5 1 2]\n",
      "[5 4 3]\n",
      "[2 5 5]\n",
      "[5 2 2]\n"
     ]
    }
   ],
   "source": [
    "A = np.random.randint(1, 6, size=(8, 3))\n",
    "B = np.random.randint(1, 6, size=(2, 2))\n",
    "for ar in A:\n",
    "    aflag = 1\n",
    "    for br in B:\n",
    "        bflag = 0\n",
    "        for el in br:\n",
    "            if el in ar:\n",
    "                bflag = 1\n",
    "                break\n",
    "        aflag *= bflag\n",
    "    if aflag:\n",
    "        print(ar)"
   ]
  },
  {
   "cell_type": "markdown",
   "id": "fa46533b",
   "metadata": {},
   "source": [
    "**5.** Дана 10x3 матрица, найти строки из неравных значений (например строка [2,2,3] остается, строка [3,3,3] удаляется)"
   ]
  },
  {
   "cell_type": "code",
   "execution_count": 22,
   "id": "fa545b23",
   "metadata": {},
   "outputs": [
    {
     "data": {
      "text/plain": [
       "array([[2, 1, 1],\n",
       "       [1, 2, 2],\n",
       "       [1, 2, 2],\n",
       "       [2, 1, 2],\n",
       "       [2, 1, 1],\n",
       "       [2, 1, 2],\n",
       "       [1, 1, 2],\n",
       "       [2, 1, 1],\n",
       "       [1, 2, 1],\n",
       "       [2, 1, 2]])"
      ]
     },
     "execution_count": 22,
     "metadata": {},
     "output_type": "execute_result"
    }
   ],
   "source": [
    "a = np.random.randint(1, 3, size=(10, 3))\n",
    "for i in [j for j in range(len(a)) if len(set(a[j])) == 1]:\n",
    "       a = np.delete(a, i, 0)\n",
    "a"
   ]
  },
  {
   "cell_type": "markdown",
   "id": "28f0d116",
   "metadata": {},
   "source": [
    "**6.** Дан двумерный массив. Удалить те строки, которые повторяются"
   ]
  },
  {
   "cell_type": "code",
   "execution_count": 23,
   "id": "83d2c0b7",
   "metadata": {},
   "outputs": [
    {
     "data": {
      "text/plain": [
       "array([[1, 3, 3],\n",
       "       [3, 3, 1]])"
      ]
     },
     "execution_count": 23,
     "metadata": {},
     "output_type": "execute_result"
    }
   ],
   "source": [
    "array = np.random.randint(1, 4, size=(3, 3))\n",
    "np.unique(array, axis=0)"
   ]
  },
  {
   "cell_type": "markdown",
   "id": "6daa9e37",
   "metadata": {},
   "source": [
    "______\n",
    "______"
   ]
  },
  {
   "cell_type": "markdown",
   "id": "cfbfcaff",
   "metadata": {},
   "source": [
    "Для каждой из следующих задач (1-5) нужно привести 2 реализации – одна без использования numpy (cчитайте, что там, где на входе или выходе должны быть numpy array, будут просто списки), а вторая полностью векторизованная с использованием numpy (без использования питоновских циклов/map/list comprehension).\n",
    "\n",
    "\n",
    "__Замечание 1.__ Можно считать, что все указанные объекты непустые (к примеру, в __задаче 1__ на диагонали матрицы есть ненулевые элементы).\n",
    "\n",
    "__Замечание 2.__ Для большинства задач решение занимает не больше 1-2 строк."
   ]
  },
  {
   "cell_type": "markdown",
   "id": "673cac7f",
   "metadata": {},
   "source": [
    "___"
   ]
  },
  {
   "cell_type": "markdown",
   "id": "ca6f585e",
   "metadata": {},
   "source": [
    "* __Задача 1__: Подсчитать произведение ненулевых элементов на диагонали прямоугольной матрицы.  \n",
    " Например, для X = np.array([[1, 0, 1], [2, 0, 2], [3, 0, 3], [4, 4, 4]]) ответ 3."
   ]
  },
  {
   "cell_type": "code",
   "execution_count": 24,
   "id": "065862fc",
   "metadata": {},
   "outputs": [
    {
     "data": {
      "text/plain": [
       "3"
      ]
     },
     "execution_count": 24,
     "metadata": {},
     "output_type": "execute_result"
    }
   ],
   "source": [
    "X = np.array([[1, 0, 1], [2, 0, 2], [3, 0, 3], [4, 4, 4]])\n",
    "product = np.prod(np.diag(X)[np.diag(X)!=0])\n",
    "product"
   ]
  },
  {
   "cell_type": "code",
   "execution_count": 25,
   "id": "3bd0f35a",
   "metadata": {},
   "outputs": [
    {
     "data": {
      "text/plain": [
       "3"
      ]
     },
     "execution_count": 25,
     "metadata": {},
     "output_type": "execute_result"
    }
   ],
   "source": [
    "X = [[1, 0, 1], [2, 0, 2], [3, 0, 3], [4, 4, 4]]\n",
    "product = 1\n",
    "for i in range(len(X)):\n",
    "    for j in range(len(X[0])):\n",
    "        if i == j and X[i][j] != 0:\n",
    "            product *= X[i][j] \n",
    "product"
   ]
  },
  {
   "cell_type": "markdown",
   "id": "9fc51d41",
   "metadata": {},
   "source": [
    "* __Задача 2__: Даны два вектора x и y. Проверить, задают ли они одно и то же мультимножество.  \n",
    "  Например, для x = np.array([1, 2, 2, 4]), y = np.array([4, 2, 1, 2]) ответ True."
   ]
  },
  {
   "cell_type": "code",
   "execution_count": 26,
   "id": "a809e02f",
   "metadata": {},
   "outputs": [
    {
     "name": "stdout",
     "output_type": "stream",
     "text": [
      "True\n"
     ]
    }
   ],
   "source": [
    "x = np.array([1, 2, 2, 4])\n",
    "y = np.array([4, 2, 1, 2])\n",
    "array_1 = np.sort(x)\n",
    "array_2 = np.sort(y)\n",
    "if np.array_equal(array_1, array_2):\n",
    "    print('True')\n",
    "else:\n",
    "    print('False')"
   ]
  },
  {
   "cell_type": "code",
   "execution_count": 27,
   "id": "bf218d20",
   "metadata": {},
   "outputs": [
    {
     "name": "stdout",
     "output_type": "stream",
     "text": [
      "True\n"
     ]
    }
   ],
   "source": [
    "x = [1, 2, 2, 4]\n",
    "y = [4, 2, 1, 2]\n",
    "x.sort()\n",
    "y.sort()\n",
    "if len(x) == len(y):\n",
    "    for i in range(len(x)):\n",
    "        if x[i] != y[i]:\n",
    "            print('False')\n",
    "            break\n",
    "    print('True')\n",
    "else:\n",
    "    print('False')"
   ]
  },
  {
   "cell_type": "markdown",
   "id": "b9c185c7",
   "metadata": {},
   "source": [
    "* __Задача 3__: Найти максимальный элемент в векторе x среди элементов, перед которыми стоит ноль. \n",
    " Например, для x = np.array([6, 2, 0, 3, 0, 0, 5, 7, 0]) ответ 5."
   ]
  },
  {
   "cell_type": "code",
   "execution_count": 28,
   "id": "b57df008",
   "metadata": {},
   "outputs": [
    {
     "data": {
      "text/plain": [
       "5"
      ]
     },
     "execution_count": 28,
     "metadata": {},
     "output_type": "execute_result"
    }
   ],
   "source": [
    "x = [6, 2, 0, 3, 0, 0, 5, 7, 0]\n",
    "max_numbers_list = []\n",
    "for i in range(1, len(x)):\n",
    "    if x[i-1] == 0:\n",
    "        max_numbers_list.append(x[i])\n",
    "max_number = max(max_numbers_list)\n",
    "max_number"
   ]
  },
  {
   "cell_type": "code",
   "execution_count": 29,
   "id": "1ec63ab3",
   "metadata": {},
   "outputs": [
    {
     "data": {
      "text/plain": [
       "5"
      ]
     },
     "execution_count": 29,
     "metadata": {},
     "output_type": "execute_result"
    }
   ],
   "source": [
    "x = np.array([6, 2, 0, 3, 0, 0, 5, 7, 0])\n",
    "np.max(np.where(x[:-1] == 0))"
   ]
  },
  {
   "cell_type": "markdown",
   "id": "480be4ce",
   "metadata": {},
   "source": [
    "* __Задача 4__: Реализовать кодирование длин серий (Run-length encoding). Для некоторого вектора x необходимо вернуть кортеж из двух векторов одинаковой длины. Первый содержит числа, а второй - сколько раз их нужно повторить.  \n",
    " Например, для x = np.array([2, 2, 2, 3, 3, 3, 5]) ответ (np.array([2, 3, 5]), np.array([3, 3, 1]))."
   ]
  },
  {
   "cell_type": "code",
   "execution_count": 30,
   "id": "3c592124",
   "metadata": {},
   "outputs": [
    {
     "data": {
      "text/plain": [
       "(array([2, 3, 5]), array([3, 3, 1], dtype=int64))"
      ]
     },
     "execution_count": 30,
     "metadata": {},
     "output_type": "execute_result"
    }
   ],
   "source": [
    "x = np.array([2, 2, 2, 3, 3, 3, 5])\n",
    "numbers, counter = np.unique(x, return_counts=True)\n",
    "numbers, counter"
   ]
  },
  {
   "cell_type": "code",
   "execution_count": 31,
   "id": "c3dfb6e1",
   "metadata": {},
   "outputs": [
    {
     "data": {
      "text/plain": [
       "(array([2, 3, 5]), array([3, 3, 1]))"
      ]
     },
     "execution_count": 31,
     "metadata": {},
     "output_type": "execute_result"
    }
   ],
   "source": [
    "x = [2, 2, 2, 3, 3, 3, 5]\n",
    "my_set = set(x)\n",
    "counter_list = []\n",
    "for i in my_set:\n",
    "    counter_list.append(x.count(i))\n",
    "counter = np.array(counter_list)\n",
    "numbers = np.array(list(my_set))\n",
    "numbers, counter"
   ]
  },
  {
   "cell_type": "markdown",
   "id": "077532ec",
   "metadata": {},
   "source": [
    "* __Задача 5__: Даны две выборки объектов - X и Y. Вычислить матрицу евклидовых расстояний между объектами. Сравните с функцией scipy.spatial.distance.cdist по скорости работы."
   ]
  },
  {
   "cell_type": "code",
   "execution_count": 32,
   "id": "1e807797",
   "metadata": {},
   "outputs": [
    {
     "data": {
      "text/plain": [
       "5.830951894845301"
      ]
     },
     "execution_count": 32,
     "metadata": {},
     "output_type": "execute_result"
    }
   ],
   "source": [
    "#distance for two points with coordinates\n",
    "X = np.array((1, 2, 3))\n",
    "Y = np.array((4, 5, 7))\n",
    "dist = np.sqrt(np.sum(np.square(X - Y)))\n",
    "dist"
   ]
  },
  {
   "cell_type": "code",
   "execution_count": 33,
   "id": "d6e1919f",
   "metadata": {},
   "outputs": [
    {
     "data": {
      "text/plain": [
       "5.830951894845301"
      ]
     },
     "execution_count": 33,
     "metadata": {},
     "output_type": "execute_result"
    }
   ],
   "source": [
    "#distance for two points with coordinates\n",
    "import math\n",
    "X = [1, 2, 3]\n",
    "Y = [4, 5, 7]\n",
    "dist = math.dist(X, Y)\n",
    "dist"
   ]
  },
  {
   "cell_type": "code",
   "execution_count": 34,
   "id": "4f83b06c",
   "metadata": {},
   "outputs": [
    {
     "data": {
      "text/plain": [
       "[[7.54983443527075, 6.0, 3.3166247903554003, 4.242640687119285],\n",
       " [7.681145747868609, 5.8309518948453, 3.0, 5.099019513592785],\n",
       " [4.358898943540673,\n",
       "  7.0710678118654755,\n",
       "  6.4031242374328485,\n",
       "  6.164414002968977],\n",
       " [4.242640687119285, 10.63014581273465, 9.486832980505138, 5.196152422706632],\n",
       " [6.782329983125267, 5.385164807134504, 5.099019513592785, 8.06225774829855]]"
      ]
     },
     "execution_count": 34,
     "metadata": {},
     "output_type": "execute_result"
    }
   ],
   "source": [
    "#distance for two matrixes (using distance for two points with coordinates)\n",
    "import math\n",
    "X = [[3, 5, 0],\n",
    "       [2, 6, 2],\n",
    "       [4, 4, 6],\n",
    "       [3, 0, 6],\n",
    "       [4, 7, 6]]\n",
    "Y = [[7, 1, 5],\n",
    "       [7, 9, 2],\n",
    "       [4, 8, 1],\n",
    "       [2, 1, 1]]\n",
    "result_matr = []\n",
    "for i in range(len(X)):\n",
    "    row = []\n",
    "    for j in range(len(Y)):\n",
    "        row.append(math.dist(X[i], Y[j]))\n",
    "    result_matr.append(row)\n",
    "result_matr"
   ]
  },
  {
   "cell_type": "code",
   "execution_count": 35,
   "id": "49375996",
   "metadata": {},
   "outputs": [
    {
     "data": {
      "text/plain": [
       "array([[ 7.54983444,  6.        ,  3.31662479,  4.24264069],\n",
       "       [ 7.68114575,  5.83095189,  3.        ,  5.09901951],\n",
       "       [ 4.35889894,  7.07106781,  6.40312424,  6.164414  ],\n",
       "       [ 4.24264069, 10.63014581,  9.48683298,  5.19615242],\n",
       "       [ 6.78232998,  5.38516481,  5.09901951,  8.06225775]])"
      ]
     },
     "execution_count": 35,
     "metadata": {},
     "output_type": "execute_result"
    }
   ],
   "source": [
    "#distance for two matrixes\n",
    "X = np.array([[3, 5, 0],\n",
    "       [2, 6, 2],\n",
    "       [4, 4, 6],\n",
    "       [3, 0, 6],\n",
    "       [4, 7, 6]])\n",
    "Y = np.array([[7, 1, 5],\n",
    "       [7, 9, 2],\n",
    "       [4, 8, 1],\n",
    "       [2, 1, 1]])\n",
    "P = np.add.outer(np.sum(X**2, axis=1), np.sum(Y**2, axis=1))\n",
    "N = np.dot(X, Y.T)\n",
    "np.sqrt(P - 2*N)"
   ]
  },
  {
   "cell_type": "code",
   "execution_count": 40,
   "id": "62462fa5",
   "metadata": {},
   "outputs": [
    {
     "name": "stdout",
     "output_type": "stream",
     "text": [
      "0.00029760000006717746\n"
     ]
    }
   ],
   "source": [
    "#let's measure the speed of the code above\n",
    "import timeit\n",
    "\n",
    "code_to_test = \"\"\"import numpy as np\n",
    "X = np.array([[3, 5, 0],\n",
    "       [2, 6, 2],\n",
    "       [4, 4, 6],\n",
    "       [3, 0, 6],\n",
    "       [4, 7, 6]])\n",
    "Y = np.array([[7, 1, 5],\n",
    "       [7, 9, 2],\n",
    "       [4, 8, 1],\n",
    "       [2, 1, 1]])\n",
    "P = np.add.outer(np.sum(X**2, axis=1), np.sum(Y**2, axis=1))\n",
    "N = np.dot(X, Y.T)\n",
    "np.sqrt(P - 2*N)\n",
    "\"\"\"\n",
    "\n",
    "elapsed_time = timeit.timeit(code_to_test, number=1)\n",
    "print(elapsed_time)"
   ]
  },
  {
   "cell_type": "code",
   "execution_count": 37,
   "id": "dc7deb11",
   "metadata": {
    "scrolled": true
   },
   "outputs": [
    {
     "name": "stdout",
     "output_type": "stream",
     "text": [
      "0.6455768999999236\n"
     ]
    }
   ],
   "source": [
    "#let's measure the speed of scipy.spatial.distance.cdist\n",
    "import timeit\n",
    "\n",
    "code_to_test = \"\"\"\n",
    "import scipy\n",
    "from scipy.spatial import distance\n",
    "import numpy as np\n",
    "X = np.array([[3, 5, 0],\n",
    "       [2, 6, 2],\n",
    "       [4, 4, 6],\n",
    "       [3, 0, 6],\n",
    "       [4, 7, 6]])\n",
    "Y = np.array([[7, 1, 5],\n",
    "       [7, 9, 2],\n",
    "       [4, 8, 1],\n",
    "       [2, 1, 1]])\n",
    "scipy.spatial.distance.cdist(X, Y, metric='euclidean',out=None)\"\"\"\n",
    "\n",
    "elapsed_time = timeit.timeit(code_to_test, number=1)\n",
    "print(elapsed_time)"
   ]
  },
  {
   "cell_type": "markdown",
   "id": "973e8064",
   "metadata": {},
   "source": [
    "_______\n",
    "________"
   ]
  },
  {
   "cell_type": "markdown",
   "id": "1104acb7",
   "metadata": {},
   "source": [
    "* #### __Задача 6__: CrunchieMunchies __*__\n",
    "\n",
    "Вы работаете в отделе маркетинга пищевой компании MyCrunch, которая разрабатывает новый вид вкусных, полезных злаков под названием **CrunchieMunchies**.\n",
    "\n",
    "Вы хотите продемонстрировать потребителям, насколько полезны ваши хлопья по сравнению с другими ведущими брендами, поэтому вы собрали данные о питании нескольких разных конкурентов.\n",
    "\n",
    "Ваша задача - использовать вычисления Numpy для анализа этих данных и доказать, что ваши **СrunchieMunchies** - самый здоровый выбор для потребителей.\n"
   ]
  },
  {
   "cell_type": "code",
   "execution_count": 41,
   "id": "10a77f8d",
   "metadata": {},
   "outputs": [],
   "source": [
    "import numpy as np"
   ]
  },
  {
   "cell_type": "markdown",
   "id": "ab87cb03",
   "metadata": {},
   "source": [
    "1. Просмотрите файл cereal.csv. Этот файл содержит количества калорий для различных марок хлопьев. Загрузите данные из файла и сохраните их как calorie_stats."
   ]
  },
  {
   "cell_type": "code",
   "execution_count": 42,
   "id": "9681ebf2",
   "metadata": {},
   "outputs": [
    {
     "data": {
      "text/plain": [
       "array([ 70., 120.,  70.,  50., 110., 110., 110., 130.,  90.,  90., 120.,\n",
       "       110., 120., 110., 110., 110., 100., 110., 110., 110., 100., 110.,\n",
       "       100., 100., 110., 110., 100., 120., 120., 110., 100., 110., 100.,\n",
       "       110., 120., 120., 110., 110., 110., 140., 110., 100., 110., 100.,\n",
       "       150., 150., 160., 100., 120., 140.,  90., 130., 120., 100.,  50.,\n",
       "        50., 100., 100., 120., 100.,  90., 110., 110.,  80.,  90.,  90.,\n",
       "       110., 110.,  90., 110., 140., 100., 110., 110., 100., 100., 110.])"
      ]
     },
     "execution_count": 42,
     "metadata": {},
     "output_type": "execute_result"
    }
   ],
   "source": [
    "calorie_stats = np.loadtxt(\"cereal.csv\", delimiter=\",\")\n",
    "calorie_stats"
   ]
  },
  {
   "cell_type": "markdown",
   "id": "139cfbd8",
   "metadata": {},
   "source": [
    "2. В одной порции CrunchieMunchies содержится 60 калорий. Насколько выше среднее количество калорий у ваших конкурентов?\n",
    "\n",
    "Сохраните ответ в переменной average_calories и распечатайте переменную в терминале"
   ]
  },
  {
   "cell_type": "code",
   "execution_count": 43,
   "id": "7036d240",
   "metadata": {},
   "outputs": [
    {
     "data": {
      "text/plain": [
       "46.883116883116884"
      ]
     },
     "execution_count": 43,
     "metadata": {},
     "output_type": "execute_result"
    }
   ],
   "source": [
    "average_calories = calorie_stats.mean() - 60\n",
    "average_calories"
   ]
  },
  {
   "cell_type": "markdown",
   "id": "b2ddb4cd",
   "metadata": {},
   "source": [
    "3. Корректно ли среднее количество калорий отражает распределение набора данных? Давайте отсортируем данные и посмотрим.\n",
    "\n",
    "Отсортируйте данные и сохраните результат в переменной calorie_stats_sorted. Распечатайте отсортированную информацию"
   ]
  },
  {
   "cell_type": "code",
   "execution_count": 44,
   "id": "46eeb4ed",
   "metadata": {},
   "outputs": [
    {
     "data": {
      "text/plain": [
       "[50.0,\n",
       " 50.0,\n",
       " 50.0,\n",
       " 70.0,\n",
       " 70.0,\n",
       " 80.0,\n",
       " 90.0,\n",
       " 90.0,\n",
       " 90.0,\n",
       " 90.0,\n",
       " 90.0,\n",
       " 90.0,\n",
       " 90.0,\n",
       " 100.0,\n",
       " 100.0,\n",
       " 100.0,\n",
       " 100.0,\n",
       " 100.0,\n",
       " 100.0,\n",
       " 100.0,\n",
       " 100.0,\n",
       " 100.0,\n",
       " 100.0,\n",
       " 100.0,\n",
       " 100.0,\n",
       " 100.0,\n",
       " 100.0,\n",
       " 100.0,\n",
       " 100.0,\n",
       " 100.0,\n",
       " 110.0,\n",
       " 110.0,\n",
       " 110.0,\n",
       " 110.0,\n",
       " 110.0,\n",
       " 110.0,\n",
       " 110.0,\n",
       " 110.0,\n",
       " 110.0,\n",
       " 110.0,\n",
       " 110.0,\n",
       " 110.0,\n",
       " 110.0,\n",
       " 110.0,\n",
       " 110.0,\n",
       " 110.0,\n",
       " 110.0,\n",
       " 110.0,\n",
       " 110.0,\n",
       " 110.0,\n",
       " 110.0,\n",
       " 110.0,\n",
       " 110.0,\n",
       " 110.0,\n",
       " 110.0,\n",
       " 110.0,\n",
       " 110.0,\n",
       " 110.0,\n",
       " 110.0,\n",
       " 120.0,\n",
       " 120.0,\n",
       " 120.0,\n",
       " 120.0,\n",
       " 120.0,\n",
       " 120.0,\n",
       " 120.0,\n",
       " 120.0,\n",
       " 120.0,\n",
       " 120.0,\n",
       " 130.0,\n",
       " 130.0,\n",
       " 140.0,\n",
       " 140.0,\n",
       " 140.0,\n",
       " 150.0,\n",
       " 150.0,\n",
       " 160.0]"
      ]
     },
     "execution_count": 44,
     "metadata": {},
     "output_type": "execute_result"
    }
   ],
   "source": [
    "calorie_stats_sorted = sorted(calorie_stats)\n",
    "calorie_stats_sorted"
   ]
  },
  {
   "cell_type": "markdown",
   "id": "4dc74116",
   "metadata": {},
   "source": [
    "4. Похоже, что большинство значений выше среднего. Давайте посмотрим, является ли медиана наиболее корректным показателем набора данных.\n",
    "\n",
    "Вычислите медиану набора данных и сохраните свой ответ в median_calories. Выведите медиану, чтобы вы могли видеть, как она сравнивается со средним значением."
   ]
  },
  {
   "cell_type": "code",
   "execution_count": 45,
   "id": "b56627c3",
   "metadata": {},
   "outputs": [
    {
     "data": {
      "text/plain": [
       "(110.0, 106.88311688311688)"
      ]
     },
     "execution_count": 45,
     "metadata": {},
     "output_type": "execute_result"
    }
   ],
   "source": [
    "median_calories = np.median(calorie_stats)\n",
    "avg_calories = calorie_stats.mean()\n",
    "median_calories, avg_calories"
   ]
  },
  {
   "cell_type": "markdown",
   "id": "a63ab72f",
   "metadata": {},
   "source": [
    "5. В то время как медиана показывает, что по крайней мере половина наших значений составляет более 100 калорий, было бы более впечатляюще показать, что значительная часть конкурентов имеет более высокое количество калорий, чем CrunchieMunchies.\n",
    "\n",
    "Рассчитайте различные процентили и распечатайте их, пока не найдете наименьший процентиль, превышающий 60 калорий. Сохраните это значение в переменной nth_percentile."
   ]
  },
  {
   "cell_type": "code",
   "execution_count": 46,
   "id": "fe80ce03",
   "metadata": {},
   "outputs": [
    {
     "data": {
      "text/plain": [
       "60.16"
      ]
     },
     "execution_count": 46,
     "metadata": {},
     "output_type": "execute_result"
    }
   ],
   "source": [
    "np.percentile(calorie_stats, 50)\n",
    "np.percentile(calorie_stats, 25)\n",
    "np.percentile(calorie_stats, 10)\n",
    "np.percentile(calorie_stats, 5)\n",
    "np.percentile(calorie_stats, 3)\n",
    "np.percentile(calorie_stats, 3.3)\n",
    "nth_percentile = np.percentile(calorie_stats, 3.3)\n",
    "nth_percentile"
   ]
  },
  {
   "cell_type": "markdown",
   "id": "a2a3c5aa",
   "metadata": {},
   "source": [
    "6. Хотя процентиль показывает нам, что у большинства конкурентов количество калорий намного выше, это неудобная концепция для использования в маркетинговых материалах.\n",
    "\n",
    "Вместо этого давайте подсчитаем процент хлопьев, в которых содержится более 60 калорий на порцию. Сохраните свой ответ в переменной more_calories и распечатайте его"
   ]
  },
  {
   "cell_type": "code",
   "execution_count": 47,
   "id": "ade0f6ea",
   "metadata": {},
   "outputs": [
    {
     "data": {
      "text/plain": [
       "96.1038961038961"
      ]
     },
     "execution_count": 47,
     "metadata": {},
     "output_type": "execute_result"
    }
   ],
   "source": [
    "more_calories =  (len(calorie_stats[(calorie_stats >60)])) / len(calorie_stats) * 100\n",
    "more_calories"
   ]
  },
  {
   "cell_type": "markdown",
   "id": "1735d65b",
   "metadata": {},
   "source": [
    "7. Это действительно высокий процент. Это будет очень полезно, когда мы будем продвигать CrunchieMunchies. Но один вопрос заключается в том, насколько велики различия в наборе данных? Можем ли мы сделать обобщение, что в большинстве злаков содержится около 100 калорий или разброс еще больше?\n",
    "\n",
    "Рассчитайте величину отклонения, найдя стандартное отклонение, Сохраните свой ответ в calorie_std и распечатайте на терминале. Как мы можем включить эту ценность в наш анализ?"
   ]
  },
  {
   "cell_type": "code",
   "execution_count": 48,
   "id": "85c8df1f",
   "metadata": {},
   "outputs": [
    {
     "data": {
      "text/plain": [
       "19.35718533390827"
      ]
     },
     "execution_count": 48,
     "metadata": {},
     "output_type": "execute_result"
    }
   ],
   "source": [
    "calorie_std = np.std(calorie_stats)\n",
    "calorie_std\n",
    "#стандартное отклонение показывает, насколько сильный идет разброс данных. Мы можем показать, что основная часть сконцентрирована вокруг среднего значения, значит у нас достаточно особенные хлопья :)"
   ]
  },
  {
   "cell_type": "markdown",
   "id": "037455c5",
   "metadata": {},
   "source": [
    "8. Напишите короткий абзац, в котором кратко изложите свои выводы и то, как, по вашему мнению, эти данные могут быть использованы в интересах Mycrunch при маркетинге CrunchieMunchies."
   ]
  },
  {
   "cell_type": "code",
   "execution_count": 167,
   "id": "c260fee9",
   "metadata": {},
   "outputs": [],
   "source": [
    "Процентиль и соотношение с количеством калорий своих конкурентов говорит само за себя:\n",
    "только 3.3% производителей имеют хлопья, у которых калории ниже наших! \n",
    "CrunchieMunchies определенно в топе для тех, кто предпочитает низкокалорийную диету\n",
    "В целом, медиана и среднее значение так же достаточно показательны: наши хлопья содержат примерно на 50% меньше калорий чем у среднего значения.\n"
   ]
  }
 ],
 "metadata": {
  "kernelspec": {
   "display_name": "Python 3 (ipykernel)",
   "language": "python",
   "name": "python3"
  },
  "language_info": {
   "codemirror_mode": {
    "name": "ipython",
    "version": 3
   },
   "file_extension": ".py",
   "mimetype": "text/x-python",
   "name": "python",
   "nbconvert_exporter": "python",
   "pygments_lexer": "ipython3",
   "version": "3.9.12"
  }
 },
 "nbformat": 4,
 "nbformat_minor": 5
}
